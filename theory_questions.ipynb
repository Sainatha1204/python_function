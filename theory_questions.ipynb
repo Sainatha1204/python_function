{
 "cells": [
  {
   "cell_type": "markdown",
   "id": "477f7926-8dd7-4860-81ba-9195cfeb7c50",
   "metadata": {},
   "source": [
    "1. What is the difference between a function and a method in Python?"
   ]
  },
  {
   "cell_type": "code",
   "execution_count": 1,
   "id": "f8251cf8-5cc6-41fe-a224-2f37caa9ec96",
   "metadata": {},
   "outputs": [
    {
     "data": {
      "text/plain": [
       "7"
      ]
     },
     "execution_count": 1,
     "metadata": {},
     "output_type": "execute_result"
    }
   ],
   "source": [
    "#function\n",
    "def add(a,b):\n",
    "    return a+b\n",
    "add(3,4)"
   ]
  },
  {
   "cell_type": "code",
   "execution_count": 3,
   "id": "8179bad4-c379-440f-ad1d-cde85c405d75",
   "metadata": {},
   "outputs": [
    {
     "data": {
      "text/plain": [
       "7"
      ]
     },
     "execution_count": 3,
     "metadata": {},
     "output_type": "execute_result"
    }
   ],
   "source": [
    "#method\n",
    "class maths:\n",
    "    def addi(self,a,b):\n",
    "        return a+b\n",
    "obj1=maths()\n",
    "obj1.addi(3,4)"
   ]
  },
  {
   "cell_type": "markdown",
   "id": "976c1861-2d5d-42df-9f92-7e73fcf3e9e6",
   "metadata": {},
   "source": [
    "2. Explain the concept of function arguments and parameters in Python.\n"
   ]
  },
  {
   "cell_type": "code",
   "execution_count": 10,
   "id": "511b3c1d-2c03-4cfd-af80-606d2e0241ce",
   "metadata": {},
   "outputs": [],
   "source": [
    "def subs(a,b):\n",
    "    return a-b\n",
    "def muls(*args):\n",
    "    ans=1\n",
    "    for i in args:\n",
    "        ans=i*ans\n",
    "    return ans\n",
    "#here a,b and args are the parameters as they are used in function declartion\n",
    "\n"
   ]
  },
  {
   "cell_type": "code",
   "execution_count": 6,
   "id": "3d982b49-9d85-4982-b367-e4b512236cb8",
   "metadata": {},
   "outputs": [
    {
     "data": {
      "text/plain": [
       "-4"
      ]
     },
     "execution_count": 6,
     "metadata": {},
     "output_type": "execute_result"
    }
   ],
   "source": [
    "subs(5,9)#5,9 are arguments\n"
   ]
  },
  {
   "cell_type": "code",
   "execution_count": 13,
   "id": "2d88a50c-e302-4a1f-aa47-d0f9561f30c2",
   "metadata": {},
   "outputs": [
    {
     "data": {
      "text/plain": [
       "54"
      ]
     },
     "execution_count": 13,
     "metadata": {},
     "output_type": "execute_result"
    }
   ],
   "source": [
    "muls(1,2,3,9)#1,2,3 is an argument\n"
   ]
  },
  {
   "cell_type": "markdown",
   "id": "5360935c-2722-4808-88be-874898565776",
   "metadata": {},
   "source": [
    "3. What are the different ways to define and call a function in Python?\n"
   ]
  },
  {
   "cell_type": "code",
   "execution_count": 14,
   "id": "8a84d0d4-9b7a-4a2e-997f-2d6239999dfd",
   "metadata": {},
   "outputs": [
    {
     "data": {
      "text/plain": [
       "13"
      ]
     },
     "execution_count": 14,
     "metadata": {},
     "output_type": "execute_result"
    }
   ],
   "source": [
    "#regular function\n",
    "def adds(a,b):\n",
    "    return a+b\n",
    "adds(4,9)"
   ]
  },
  {
   "cell_type": "code",
   "execution_count": 16,
   "id": "947e635b-3e7c-4f71-92a0-989fc458dc4c",
   "metadata": {},
   "outputs": [
    {
     "name": "stdout",
     "output_type": "stream",
     "text": [
      "14\n"
     ]
    },
    {
     "data": {
      "text/plain": [
       "23"
      ]
     },
     "execution_count": 16,
     "metadata": {},
     "output_type": "execute_result"
    }
   ],
   "source": [
    "#function with default parameters\n",
    "def adds_default(a,b,c=10):\n",
    "    return a+b+c\n",
    "print(adds_default(4,9,1))\n",
    "adds_default(4,9)"
   ]
  },
  {
   "cell_type": "code",
   "execution_count": 4,
   "id": "a1faa947-ad64-4c2f-ba1e-0082de71422a",
   "metadata": {},
   "outputs": [
    {
     "name": "stdout",
     "output_type": "stream",
     "text": [
      "a==4\n",
      "b==9\n"
     ]
    },
    {
     "data": {
      "text/plain": [
       "13"
      ]
     },
     "execution_count": 4,
     "metadata": {},
     "output_type": "execute_result"
    }
   ],
   "source": [
    "#function with variable length and variable keywords parammeterd\n",
    "def adds_variable(*args,**kwargs):\n",
    "    for key,avalue in kwargs.items():\n",
    "        print(f\"{key}=={avalue}\")\n",
    "    return sum(args)\n",
    "adds_variable(4,9,a=4,b=9)\n",
    "    \n"
   ]
  },
  {
   "cell_type": "code",
   "execution_count": 5,
   "id": "c7e2ee36-dc6c-4f31-bfdb-3874f6f41abd",
   "metadata": {},
   "outputs": [
    {
     "data": {
      "text/plain": [
       "42"
      ]
     },
     "execution_count": 5,
     "metadata": {},
     "output_type": "execute_result"
    }
   ],
   "source": [
    "#lambda function\n",
    "multi=lambda x,y,z:x*y*z\n",
    "multi(3,7,2)"
   ]
  },
  {
   "cell_type": "markdown",
   "id": "dc8abcc8-e554-46e9-a359-b613f2d61ace",
   "metadata": {},
   "source": [
    "4. What is the purpose of the `return` statement in a Python function?"
   ]
  },
  {
   "cell_type": "code",
   "execution_count": 8,
   "id": "326fe13f-88c6-4a71-81d6-7c9ec0221199",
   "metadata": {},
   "outputs": [
    {
     "name": "stdout",
     "output_type": "stream",
     "text": [
      "-1\n",
      "c is even no execution\n"
     ]
    }
   ],
   "source": [
    "def reverse_sub(a,b,c):\n",
    "    if c%2==0:\n",
    "        print(\"c is even no execution\")\n",
    "        return#if these return executes no result is computed\n",
    "    return c-b-a\n",
    "print(reverse_sub(3,7,9))\n",
    "reverse_sub(4,7,8)\n"
   ]
  },
  {
   "cell_type": "markdown",
   "id": "80f64427-58f3-4a89-93db-0987dc12b017",
   "metadata": {},
   "source": [
    "5. What are iterators in Python and how do they differ from iterables?"
   ]
  },
  {
   "cell_type": "code",
   "execution_count": 9,
   "id": "28741b7f-6bde-49eb-960e-8559bf353a8b",
   "metadata": {},
   "outputs": [
    {
     "name": "stdout",
     "output_type": "stream",
     "text": [
      "1\n",
      "2\n",
      "3\n",
      "4\n"
     ]
    }
   ],
   "source": [
    "#iterable\n",
    "l=[1,2,3,4]\n",
    "for i in l:\n",
    "    print(i)\n"
   ]
  },
  {
   "cell_type": "code",
   "execution_count": 10,
   "id": "d8b3b135-a01b-493d-a89f-1548db1e153a",
   "metadata": {},
   "outputs": [
    {
     "name": "stdout",
     "output_type": "stream",
     "text": [
      "1\n",
      "2\n",
      "3\n",
      "4\n"
     ]
    }
   ],
   "source": [
    "#iterators\n",
    "l=[1,2,3,4]\n",
    "k=iter(l)\n",
    "print(next(k))\n",
    "print(next(k))\n",
    "print(next(k))\n",
    "print(next(k))"
   ]
  },
  {
   "cell_type": "markdown",
   "id": "4b49dd86-c3d4-45da-9849-b2b0afcb5c09",
   "metadata": {},
   "source": [
    "6. Explain the concept of generators in Python and how they are defined."
   ]
  },
  {
   "cell_type": "code",
   "execution_count": 12,
   "id": "3ab77f32-3197-460b-9ab6-708e12c43848",
   "metadata": {},
   "outputs": [
    {
     "name": "stdout",
     "output_type": "stream",
     "text": [
      "0 1 1 2 3 5 8 13 21 34 55 "
     ]
    }
   ],
   "source": [
    "#fibonaoacci series using generato\n",
    "def fibonoacci(limit):\n",
    "    a, b = 0, 1\n",
    "    while a < limit:\n",
    "        yield a\n",
    "        a, b = b, a + b\n",
    "\n",
    "for num in fibonoacci(70):\n",
    "    print(num,end=\" \")\n"
   ]
  },
  {
   "cell_type": "markdown",
   "id": "c41e2699-e385-4b1f-8ecc-0f84d31800f2",
   "metadata": {},
   "source": [
    "7. What are the advantages of using generators over regular functions?\n"
   ]
  },
  {
   "cell_type": "code",
   "execution_count": 14,
   "id": "5a821296-62b5-4137-abc1-9042ff14b9f4",
   "metadata": {},
   "outputs": [
    {
     "name": "stdout",
     "output_type": "stream",
     "text": [
      "Time by generator : 0.00010323524475097656 seconds\n"
     ]
    }
   ],
   "source": [
    "import time\n",
    "\n",
    "def fibonacci_generator(n):\n",
    "    a, b = 0, 1\n",
    "    for _ in range(n):\n",
    "        yield a\n",
    "        a, b = b, a + b\n",
    "\n",
    "start_time = time.time()\n",
    "\n",
    "n = 100\n",
    "fibonacci_gen = list(fibonacci_generator(n))\n",
    "\n",
    "end_time = time.time()\n",
    "\n",
    "print(f\"Time by generator : {end_time - start_time} seconds\")\n"
   ]
  },
  {
   "cell_type": "code",
   "execution_count": 15,
   "id": "5c7e8823-dd49-4d18-8402-2b5208174bb7",
   "metadata": {},
   "outputs": [
    {
     "name": "stdout",
     "output_type": "stream",
     "text": [
      "Time by regular: 0.00025153160095214844 seconds\n"
     ]
    }
   ],
   "source": [
    "def fibonacci_regular(n):\n",
    "    fib_list = []\n",
    "    a, b = 0, 1\n",
    "    for _ in range(n):\n",
    "        fib_list.append(a)\n",
    "        a, b = b, a + b\n",
    "    return fib_list\n",
    "\n",
    "start_time = time.time()\n",
    "\n",
    "n = 1000\n",
    "fibonacci_list_result = fibonacci_regular(n)\n",
    "\n",
    "end_time = time.time()\n",
    "\n",
    "print(f\"Time by regular: {end_time - start_time} seconds\")\n"
   ]
  },
  {
   "cell_type": "markdown",
   "id": "646fb9db-b0a8-4f05-af10-9a18fd66291f",
   "metadata": {},
   "source": [
    "here time taken by regular function more than generator function"
   ]
  },
  {
   "cell_type": "markdown",
   "id": "455e9dea-e956-4561-9ca6-9471bbdfeec6",
   "metadata": {},
   "source": [
    "8. What is a lambda function in Python and when is it typically used?\n"
   ]
  },
  {
   "cell_type": "code",
   "execution_count": 18,
   "id": "6e2c33e1-5e8c-445b-aa0c-32420f0ab495",
   "metadata": {},
   "outputs": [
    {
     "name": "stdout",
     "output_type": "stream",
     "text": [
      "['sai', 'lion', 'ajay', 'wolf']\n"
     ]
    }
   ],
   "source": [
    "#sorting lists based on second element of string using lambda fubction\n",
    "k=[\"sai\",\"ajay\",\"lion\",\"wolf\"]\n",
    "print(sorted(k,key=lambda k:k[1]))"
   ]
  },
  {
   "cell_type": "markdown",
   "id": "feed82e2-92b4-4305-bcfa-2669c6f97286",
   "metadata": {},
   "source": [
    "9. Explain the purpose and usage of the `map()` function in Python.\n"
   ]
  },
  {
   "cell_type": "code",
   "execution_count": 5,
   "id": "9ee22bde-37a8-4209-95f0-ab051bd76a77",
   "metadata": {},
   "outputs": [
    {
     "name": "stdout",
     "output_type": "stream",
     "text": [
      "[3, 6, 9, 12, 15]\n"
     ]
    }
   ],
   "source": [
    "#multipying each element in list by 3\n",
    "def mul3(a):\n",
    "    return a*3\n",
    "numbers = [1, 2, 3, 4, 5]\n",
    "strings = list(map(mul3, numbers))\n",
    "print(strings)  \n"
   ]
  },
  {
   "cell_type": "code",
   "execution_count": 6,
   "id": "d5a3f59d-c55e-4ec4-b8ec-24b31d114eb5",
   "metadata": {},
   "outputs": [
    {
     "name": "stdout",
     "output_type": "stream",
     "text": [
      "[4, 6, 9, 'sainath']\n"
     ]
    }
   ],
   "source": [
    "#adding elements in two lists w.r.t to index\n",
    "l1=[1,2,4,\"sai\"]\n",
    "l2=[3,4,5,\"nath\"]\n",
    "\n",
    "combination=list(map(lambda x,y:x+y,l1,l2))\n",
    "print(combination)\n",
    "    "
   ]
  },
  {
   "cell_type": "markdown",
   "id": "217401ba-d539-4d6f-a90f-6b8b96997a0b",
   "metadata": {},
   "source": [
    "10. What is the difference between `map()`, `reduce()`, and `filter()` functions in Python?\n"
   ]
  },
  {
   "cell_type": "code",
   "execution_count": 7,
   "id": "07b7cf78-7b62-4f0c-ac4e-85089b277a2f",
   "metadata": {},
   "outputs": [
    {
     "name": "stdout",
     "output_type": "stream",
     "text": [
      "[1, 4, 9, 16]\n"
     ]
    }
   ],
   "source": [
    "#map \n",
    "#squaring elements in list\n",
    "l=[1,2,3,4]\n",
    "k=list(map(lambda l:l**2,l))\n",
    "print(k)"
   ]
  },
  {
   "cell_type": "code",
   "execution_count": 14,
   "id": "ac91d986-0121-468b-97df-2c93a3b4cfae",
   "metadata": {},
   "outputs": [
    {
     "name": "stdout",
     "output_type": "stream",
     "text": [
      "sum is 15\n"
     ]
    }
   ],
   "source": [
    "#reduce\n",
    "#finding sum of elements\n",
    "from functools import reduce\n",
    "\n",
    "l=[1,2,3,4,5]\n",
    "k=reduce(lambda x,y:x+y,l)\n",
    "print(\"sum is\",k)"
   ]
  },
  {
   "cell_type": "code",
   "execution_count": 15,
   "id": "67cbd79b-ee7f-4b0c-bc80-d57958d41a50",
   "metadata": {},
   "outputs": [
    {
     "data": {
      "text/plain": [
       "[2, 4, 6, 8]"
      ]
     },
     "execution_count": 15,
     "metadata": {},
     "output_type": "execute_result"
    }
   ],
   "source": [
    "#filter\n",
    "#filtering even elements in list\n",
    "l=[1,2,3,4,5,6,7,8]\n",
    "k=list(filter(lambda x:x%2==0,l))\n",
    "k\n",
    "       "
   ]
  },
  {
   "cell_type": "code",
   "execution_count": null,
   "id": "6062c013-b798-4849-922c-4de0135741c7",
   "metadata": {},
   "outputs": [],
   "source": []
  }
 ],
 "metadata": {
  "kernelspec": {
   "display_name": "Python 3 (ipykernel)",
   "language": "python",
   "name": "python3"
  },
  "language_info": {
   "codemirror_mode": {
    "name": "ipython",
    "version": 3
   },
   "file_extension": ".py",
   "mimetype": "text/x-python",
   "name": "python",
   "nbconvert_exporter": "python",
   "pygments_lexer": "ipython3",
   "version": "3.10.8"
  }
 },
 "nbformat": 4,
 "nbformat_minor": 5
}
