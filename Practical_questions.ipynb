{
 "cells": [
  {
   "cell_type": "markdown",
   "id": "4965049a-0ccd-474a-8982-b4c1c03bd94e",
   "metadata": {},
   "source": [
    "1. Write a Python function that takes a list of numbers as input and returns the sum of all even numbers in\n",
    "the list."
   ]
  },
  {
   "cell_type": "code",
   "execution_count": 2,
   "id": "ab623c04-97b1-47f5-bcd4-97dfb6077ba9",
   "metadata": {},
   "outputs": [
    {
     "name": "stdout",
     "output_type": "stream",
     "text": [
      "sum of even elements in my_list is 20\n"
     ]
    }
   ],
   "source": [
    "def sum_even(a=[]):\n",
    "    result=0\n",
    "    for i in a:\n",
    "        if i%2==0:\n",
    "            result=result+i\n",
    "    return result\n",
    "\n",
    "my_list=[1,2,3,4,5,6,7,8]\n",
    "print(f\"sum of even elements in my_list is {sum_even(my_list)}\")"
   ]
  },
  {
   "cell_type": "markdown",
   "id": "95be45a1-d38c-4392-a829-58d571eda9f0",
   "metadata": {},
   "source": [
    "2. Create a Python function that accepts a string and returns the reverse of that string."
   ]
  },
  {
   "cell_type": "code",
   "execution_count": 6,
   "id": "932475b1-f0ba-4fea-932e-cabb5038ab1b",
   "metadata": {},
   "outputs": [
    {
     "data": {
      "text/plain": [
       "'ahtanias'"
      ]
     },
     "execution_count": 6,
     "metadata": {},
     "output_type": "execute_result"
    }
   ],
   "source": [
    "def reverse_string(name):\n",
    "    a=list(name)\n",
    "    k=len(a)-1\n",
    "    for i in range(int(len(a)/2)):\n",
    "        a[i],a[k]=a[k],a[i]\n",
    "        k=k-1\n",
    "    result=\"\".join(a)\n",
    "    return result\n",
    "reverse_string(\"sainatha\")\n",
    "        "
   ]
  },
  {
   "cell_type": "markdown",
   "id": "354cef1d-5403-43dd-9990-09507d62cb36",
   "metadata": {},
   "source": [
    "3. Implement a Python function that takes a list of integers and returns a new list containing the squares of\n",
    "each number."
   ]
  },
  {
   "cell_type": "code",
   "execution_count": 7,
   "id": "d3980f04-7c0f-4e4a-b5f6-edccc8b6f427",
   "metadata": {},
   "outputs": [
    {
     "name": "stdout",
     "output_type": "stream",
     "text": [
      "sqaures list [1, 4, 9, 16]\n"
     ]
    }
   ],
   "source": [
    "def squares(a=[]):\n",
    "    result_list=[]\n",
    "    for i in a:\n",
    "        result_list.append(i**2)\n",
    "    return result_list\n",
    "\n",
    "my_list=[1,2,3,4]\n",
    "print(f\"sqaures list {squares(my_list)}\")"
   ]
  },
  {
   "cell_type": "markdown",
   "id": "3b82e0f6-94cf-40e2-9a68-e8e6d92628b0",
   "metadata": {},
   "source": [
    "4. Write a Python function that checks if a given number is prime or not from 1 to 200."
   ]
  },
  {
   "cell_type": "code",
   "execution_count": 11,
   "id": "f3f68b4f-9e02-4979-8648-8d754310caba",
   "metadata": {},
   "outputs": [
    {
     "name": "stdout",
     "output_type": "stream",
     "text": [
      "the number 98 is not prime\n",
      "the number 47 is prime\n",
      "number is not in range of 1 to 200\n"
     ]
    }
   ],
   "source": [
    "def check_prime(a):\n",
    "    if a<1 or a>200:\n",
    "        return \"number is not in range of 1 to 200\"\n",
    "    for i in range(2,int(a**0.5)):\n",
    "        if a%i==0:\n",
    "            return f\"the number {a} is not prime\"\n",
    "    return f\"the number {a} is prime\"\n",
    "\n",
    "print(check_prime(98))\n",
    "print(check_prime(47))\n",
    "print(check_prime(201))\n",
    "        "
   ]
  },
  {
   "cell_type": "markdown",
   "id": "4d453427-646c-43d2-8216-2443000a3869",
   "metadata": {},
   "source": [
    "5. Create an iterator class in Python that generates the Fibonacci sequence up to a specified number of\n",
    "terms."
   ]
  },
  {
   "cell_type": "code",
   "execution_count": 16,
   "id": "54ffdfcf-5ca2-4c68-903a-1953408ab3a0",
   "metadata": {},
   "outputs": [
    {
     "name": "stdout",
     "output_type": "stream",
     "text": [
      "0 1 1 2 3 5 8 13 21 34 55 89 144 233 377 610 987 1597 2584 4181 "
     ]
    }
   ],
   "source": [
    "class FibonacciGenerator:\n",
    "    def __init__(self, terms):\n",
    "        self.terms = terms\n",
    "        self.a, self.b = 0, 1\n",
    "        self.curr_term = 0\n",
    "\n",
    "    def __iter__(self):\n",
    "        return self\n",
    "\n",
    "    def __next__(self):\n",
    "        if self.curr_term >= self.terms:\n",
    "            raise StopIteration\n",
    "        fibonacci_number = self.a\n",
    "        self.a, self.b = self.b, self.a + self.b\n",
    "        self.curr_term += 1\n",
    "        return fibonacci_number\n",
    "\n",
    "\n",
    "fibonacci_gen = FibonacciGenerator(20)  \n",
    "for num in fibonacci_gen:\n",
    "    print(num,end=\" \")\n"
   ]
  },
  {
   "cell_type": "markdown",
   "id": "cb6bb83d-436c-4f6d-8286-03dff2a7629c",
   "metadata": {},
   "source": [
    "6. Write a generator function in Python that yields the powers of 2 up to a given exponent."
   ]
  },
  {
   "cell_type": "code",
   "execution_count": 22,
   "id": "d77f2f9d-812c-4cd0-bdd7-4029a8a0a204",
   "metadata": {},
   "outputs": [
    {
     "name": "stdout",
     "output_type": "stream",
     "text": [
      "1 2 4 8 16 32 64 "
     ]
    }
   ],
   "source": [
    "def expo_two(a):\n",
    "    for i in range(a+1):\n",
    "        yield 2**i\n",
    "for i in expo_two(6):\n",
    "    print(i,end=\" \")\n",
    "#here the exponenets are from 0 to a"
   ]
  },
  {
   "cell_type": "markdown",
   "id": "4a70ce26-bce9-4482-b325-16a05ecacfdb",
   "metadata": {},
   "source": [
    "7. Implement a generator function that reads a file line by line and yields each line as a string."
   ]
  },
  {
   "cell_type": "code",
   "execution_count": 24,
   "id": "6b3b439f-ab8a-49f0-a0a0-2534b9b981b5",
   "metadata": {},
   "outputs": [
    {
     "name": "stdout",
     "output_type": "stream",
     "text": [
      "sainatha rudra\n",
      "NIT CALICUT\n",
      "B200987EC\n",
      "Hyderabad\n",
      "pwskills\n"
     ]
    }
   ],
   "source": [
    "def get_line(path):\n",
    "    with open(path,'r') as file:\n",
    "        for i in file:\n",
    "            yield i.strip()\n",
    "\n",
    "a='testing.txt'\n",
    "for line in get_line(a):\n",
    "    print(line)"
   ]
  },
  {
   "cell_type": "markdown",
   "id": "5e31c71e-c153-4e13-a7ff-882fe9bc143f",
   "metadata": {},
   "source": [
    "8. Use a lambda function in Python to sort a list of tuples based on the second element of each tuple."
   ]
  },
  {
   "cell_type": "code",
   "execution_count": 25,
   "id": "866a9919-75ce-45d0-b62d-e890c2f7b0b4",
   "metadata": {},
   "outputs": [
    {
     "name": "stdout",
     "output_type": "stream",
     "text": [
      "[(7, 0, 22), (2, 1, 4), (3, 4, 1), (1, 22, 3)]\n"
     ]
    }
   ],
   "source": [
    "l=[(1,22,3),(2,1,4),(3,4,1),(7,0,22)]\n",
    "sort_2=sorted(l,key=lambda l:l[1])\n",
    "print(sort_2)"
   ]
  },
  {
   "cell_type": "markdown",
   "id": "2f2b788c-3b2a-45d2-bc78-dcff3a04f1aa",
   "metadata": {},
   "source": [
    "9. Write a Python program that uses `map()` to convert a list of temperatures from Celsius to Fahrenheit."
   ]
  },
  {
   "cell_type": "code",
   "execution_count": 27,
   "id": "2233dd7c-f5d8-4c5b-83f4-291f4dd5a67d",
   "metadata": {},
   "outputs": [
    {
     "name": "stdout",
     "output_type": "stream",
     "text": [
      "[89.6, 208.4, 122.0, 75.2]\n"
     ]
    }
   ],
   "source": [
    "def cel_fah(a):\n",
    "    result=(9/5)*a+32\n",
    "    return result\n",
    "cel_list=[32,98,50,24]\n",
    "fah_list=list(map(cel_fah,cel_list))\n",
    "print(fah_list)"
   ]
  },
  {
   "cell_type": "markdown",
   "id": "d9f0f794-9cd0-4bbf-930e-047515334191",
   "metadata": {},
   "source": [
    "10. Create a Python program that uses `filter()` to remove all the vowels from a given string."
   ]
  },
  {
   "cell_type": "code",
   "execution_count": 30,
   "id": "2b9f01fd-acaa-49d9-8f0e-2fe6841dc7f6",
   "metadata": {},
   "outputs": [
    {
     "name": "stdout",
     "output_type": "stream",
     "text": [
      "snth\n"
     ]
    }
   ],
   "source": [
    "string='sainatha'\n",
    "k=list(filter(lambda x:x not in ['a','e','i','o','u','A','E','I','O','U'],string))\n",
    "print(\"\".join(k))"
   ]
  },
  {
   "cell_type": "markdown",
   "id": "d1ef4aba-01f1-4d4f-a004-c8fdd54358ca",
   "metadata": {},
   "source": [
    "11) Imagine an accounting routine used in a book shop. It works on a list with sublists, which look like this:\n",
    "\n",
    "\n",
    "\n",
    "\n",
    "\n",
    "\n",
    "\n",
    "Write a Python program, which returns a list with 2-tuples. Each tuple consists of the order number and the\n",
    "product of the price per item and the quantity. The product should be increased by 10,- € if the value of the\n",
    "order is smaller than 100,00 €.\n",
    "\n",
    "Write a Python program using lambda and map"
   ]
  },
  {
   "cell_type": "code",
   "execution_count": 39,
   "id": "d32c6acd-cd2e-43bb-99eb-6eb0c4919162",
   "metadata": {},
   "outputs": [
    {
     "data": {
      "text/plain": [
       "[(34587, 163.8), (98762, 284.0), (77226, 108.85000000000001), (88112, 84.97)]"
      ]
     },
     "execution_count": 39,
     "metadata": {},
     "output_type": "execute_result"
    }
   ],
   "source": [
    "order_details = [[34587,'Learning Python','Mark Lutz',4,40.95],\n",
    "         [98762,'Programming Python','Mark Lutz',5,56.80],\n",
    "         [77226,'Head First Python','Paul Barry',3,32.95],\n",
    "         [88112,'Einführung in Python3','Bernd Klein',3,24.99]\n",
    "        ]\n",
    "required_list=list(map(lambda x:(x[0],x[4]*x[3]) if x[3]*x[4]>=100 else (x[0],x[3]*x[4]+10),order_details))\n",
    "required_list"
   ]
  },
  {
   "cell_type": "code",
   "execution_count": null,
   "id": "3f49c4ea-dbb4-498d-bc95-d61eb595b5f0",
   "metadata": {},
   "outputs": [],
   "source": []
  }
 ],
 "metadata": {
  "kernelspec": {
   "display_name": "Python 3 (ipykernel)",
   "language": "python",
   "name": "python3"
  },
  "language_info": {
   "codemirror_mode": {
    "name": "ipython",
    "version": 3
   },
   "file_extension": ".py",
   "mimetype": "text/x-python",
   "name": "python",
   "nbconvert_exporter": "python",
   "pygments_lexer": "ipython3",
   "version": "3.10.8"
  }
 },
 "nbformat": 4,
 "nbformat_minor": 5
}
